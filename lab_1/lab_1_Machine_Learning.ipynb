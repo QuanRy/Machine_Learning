{
  "nbformat": 4,
  "nbformat_minor": 0,
  "metadata": {
    "colab": {
      "provenance": [],
      "authorship_tag": "ABX9TyPzEMbDa0diaVWq7KGK0P1z",
      "include_colab_link": true
    },
    "kernelspec": {
      "name": "ir",
      "display_name": "R"
    },
    "language_info": {
      "name": "R"
    }
  },
  "cells": [
    {
      "cell_type": "markdown",
      "metadata": {
        "id": "view-in-github",
        "colab_type": "text"
      },
      "source": [
        "<a href=\"https://colab.research.google.com/github/QuanRy/Machine_Learning/blob/main/lab_1/lab_1_Machine_Learning.ipynb\" target=\"_parent\"><img src=\"https://colab.research.google.com/assets/colab-badge.svg\" alt=\"Open In Colab\"/></a>"
      ]
    },
    {
      "cell_type": "code",
      "execution_count": 21,
      "metadata": {
        "id": "5NUqmIGyps9Q"
      },
      "outputs": [],
      "source": [
        "# исходное число записей и последовательность для нумерации\n",
        "N <- 100\n",
        "Nrow <- 1:N"
      ]
    },
    {
      "cell_type": "code",
      "source": [
        "# формирование вектора случайно сгенерированных имен\n",
        "gen_name <- function(x) {\n",
        "  # lists of names examples\n",
        "  name_list <- c(\"Сергей\", \"Никита\", \"Иван\", \"Николай\", \"Андрей\", \"Александр\")\n",
        "  surname_list<- c(\"Новрузов\", \"Орлов\", \"Григорьев\", \"Козякин\", \"Блинов\", \"Полешко\")\n",
        "  \n",
        "  names_len <- length(name_list)\n",
        "  \n",
        "  emp_name <- paste(\n",
        "    name_list[sample(1:names_len, 1)], \n",
        "    surname_list[sample(1:names_len, 1)]\n",
        "  )\n",
        "  emp_name\n",
        "}\n",
        "\n",
        "Name <- sapply(Nrow, gen_name)"
      ],
      "metadata": {
        "id": "tXeWCFKsqMj_"
      },
      "execution_count": 27,
      "outputs": []
    },
    {
      "cell_type": "code",
      "source": [
        "# остальные вектора\n",
        "gen_empl_year <- function(birthday) {\n",
        "  sample((birthday + 18):2006, 1)\n",
        "}\n",
        "\n",
        "BirthYear <- sample(1965:1990, N, replace=T)\n",
        "\n",
        "EmployYear <- sapply(BirthYear, gen_empl_year)\n",
        "\n",
        "Salary <- sample(10000:30000, N, replace=T)"
      ],
      "metadata": {
        "id": "46MxsCFSqmNB"
      },
      "execution_count": 28,
      "outputs": []
    },
    {
      "cell_type": "code",
      "source": [
        "# собираем датафрейм и выводим его\n",
        "df <- data.frame(\n",
        "  Nrow=Nrow,\n",
        "  Name=Name,\n",
        "  BirthYear=BirthYear,\n",
        "  EmployYear=EmployYear,\n",
        "  Salary=Salary\n",
        ")\n",
        "\n",
        "head(df)\n",
        "tail(df)"
      ],
      "metadata": {
        "colab": {
          "base_uri": "https://localhost:8080/",
          "height": 555
        },
        "id": "zgDZyd05qrCE",
        "outputId": "d6eade59-1771-4f6c-ef24-e598e67fed03"
      },
      "execution_count": 29,
      "outputs": [
        {
          "output_type": "display_data",
          "data": {
            "text/html": [
              "<table class=\"dataframe\">\n",
              "<caption>A data.frame: 6 × 5</caption>\n",
              "<thead>\n",
              "\t<tr><th></th><th scope=col>Nrow</th><th scope=col>Name</th><th scope=col>BirthYear</th><th scope=col>EmployYear</th><th scope=col>Salary</th></tr>\n",
              "\t<tr><th></th><th scope=col>&lt;int&gt;</th><th scope=col>&lt;chr&gt;</th><th scope=col>&lt;int&gt;</th><th scope=col>&lt;int&gt;</th><th scope=col>&lt;int&gt;</th></tr>\n",
              "</thead>\n",
              "<tbody>\n",
              "\t<tr><th scope=row>1</th><td>1</td><td>Александр Новрузов</td><td>1973</td><td>1996</td><td>25299</td></tr>\n",
              "\t<tr><th scope=row>2</th><td>2</td><td>Иван Орлов        </td><td>1987</td><td>2005</td><td>22930</td></tr>\n",
              "\t<tr><th scope=row>3</th><td>3</td><td>Иван Новрузов     </td><td>1965</td><td>1989</td><td>22377</td></tr>\n",
              "\t<tr><th scope=row>4</th><td>4</td><td>Александр Новрузов</td><td>1974</td><td>2001</td><td>18594</td></tr>\n",
              "\t<tr><th scope=row>5</th><td>5</td><td>Николай Новрузов  </td><td>1968</td><td>1990</td><td>28144</td></tr>\n",
              "\t<tr><th scope=row>6</th><td>6</td><td>Иван Григорьев    </td><td>1968</td><td>1998</td><td>21634</td></tr>\n",
              "</tbody>\n",
              "</table>\n"
            ],
            "text/markdown": "\nA data.frame: 6 × 5\n\n| <!--/--> | Nrow &lt;int&gt; | Name &lt;chr&gt; | BirthYear &lt;int&gt; | EmployYear &lt;int&gt; | Salary &lt;int&gt; |\n|---|---|---|---|---|---|\n| 1 | 1 | Александр Новрузов | 1973 | 1996 | 25299 |\n| 2 | 2 | Иван Орлов         | 1987 | 2005 | 22930 |\n| 3 | 3 | Иван Новрузов      | 1965 | 1989 | 22377 |\n| 4 | 4 | Александр Новрузов | 1974 | 2001 | 18594 |\n| 5 | 5 | Николай Новрузов   | 1968 | 1990 | 28144 |\n| 6 | 6 | Иван Григорьев     | 1968 | 1998 | 21634 |\n\n",
            "text/latex": "A data.frame: 6 × 5\n\\begin{tabular}{r|lllll}\n  & Nrow & Name & BirthYear & EmployYear & Salary\\\\\n  & <int> & <chr> & <int> & <int> & <int>\\\\\n\\hline\n\t1 & 1 & Александр Новрузов & 1973 & 1996 & 25299\\\\\n\t2 & 2 & Иван Орлов         & 1987 & 2005 & 22930\\\\\n\t3 & 3 & Иван Новрузов      & 1965 & 1989 & 22377\\\\\n\t4 & 4 & Александр Новрузов & 1974 & 2001 & 18594\\\\\n\t5 & 5 & Николай Новрузов   & 1968 & 1990 & 28144\\\\\n\t6 & 6 & Иван Григорьев     & 1968 & 1998 & 21634\\\\\n\\end{tabular}\n",
            "text/plain": [
              "  Nrow Name               BirthYear EmployYear Salary\n",
              "1 1    Александр Новрузов 1973      1996       25299 \n",
              "2 2    Иван Орлов         1987      2005       22930 \n",
              "3 3    Иван Новрузов      1965      1989       22377 \n",
              "4 4    Александр Новрузов 1974      2001       18594 \n",
              "5 5    Николай Новрузов   1968      1990       28144 \n",
              "6 6    Иван Григорьев     1968      1998       21634 "
            ]
          },
          "metadata": {}
        },
        {
          "output_type": "display_data",
          "data": {
            "text/html": [
              "<table class=\"dataframe\">\n",
              "<caption>A data.frame: 6 × 5</caption>\n",
              "<thead>\n",
              "\t<tr><th></th><th scope=col>Nrow</th><th scope=col>Name</th><th scope=col>BirthYear</th><th scope=col>EmployYear</th><th scope=col>Salary</th></tr>\n",
              "\t<tr><th></th><th scope=col>&lt;int&gt;</th><th scope=col>&lt;chr&gt;</th><th scope=col>&lt;int&gt;</th><th scope=col>&lt;int&gt;</th><th scope=col>&lt;int&gt;</th></tr>\n",
              "</thead>\n",
              "<tbody>\n",
              "\t<tr><th scope=row>95</th><td> 95</td><td>Николай Блинов   </td><td>1980</td><td>2000</td><td>14914</td></tr>\n",
              "\t<tr><th scope=row>96</th><td> 96</td><td>Александр Полешко</td><td>1989</td><td>2007</td><td>10874</td></tr>\n",
              "\t<tr><th scope=row>97</th><td> 97</td><td>Иван Орлов       </td><td>1970</td><td>2003</td><td>18721</td></tr>\n",
              "\t<tr><th scope=row>98</th><td> 98</td><td>Иван Орлов       </td><td>1982</td><td>2001</td><td>19257</td></tr>\n",
              "\t<tr><th scope=row>99</th><td> 99</td><td>Иван Новрузов    </td><td>1975</td><td>2001</td><td>29221</td></tr>\n",
              "\t<tr><th scope=row>100</th><td>100</td><td>Николай Козякин  </td><td>1990</td><td>2007</td><td>14654</td></tr>\n",
              "</tbody>\n",
              "</table>\n"
            ],
            "text/markdown": "\nA data.frame: 6 × 5\n\n| <!--/--> | Nrow &lt;int&gt; | Name &lt;chr&gt; | BirthYear &lt;int&gt; | EmployYear &lt;int&gt; | Salary &lt;int&gt; |\n|---|---|---|---|---|---|\n| 95 |  95 | Николай Блинов    | 1980 | 2000 | 14914 |\n| 96 |  96 | Александр Полешко | 1989 | 2007 | 10874 |\n| 97 |  97 | Иван Орлов        | 1970 | 2003 | 18721 |\n| 98 |  98 | Иван Орлов        | 1982 | 2001 | 19257 |\n| 99 |  99 | Иван Новрузов     | 1975 | 2001 | 29221 |\n| 100 | 100 | Николай Козякин   | 1990 | 2007 | 14654 |\n\n",
            "text/latex": "A data.frame: 6 × 5\n\\begin{tabular}{r|lllll}\n  & Nrow & Name & BirthYear & EmployYear & Salary\\\\\n  & <int> & <chr> & <int> & <int> & <int>\\\\\n\\hline\n\t95 &  95 & Николай Блинов    & 1980 & 2000 & 14914\\\\\n\t96 &  96 & Александр Полешко & 1989 & 2007 & 10874\\\\\n\t97 &  97 & Иван Орлов        & 1970 & 2003 & 18721\\\\\n\t98 &  98 & Иван Орлов        & 1982 & 2001 & 19257\\\\\n\t99 &  99 & Иван Новрузов     & 1975 & 2001 & 29221\\\\\n\t100 & 100 & Николай Козякин   & 1990 & 2007 & 14654\\\\\n\\end{tabular}\n",
            "text/plain": [
              "    Nrow Name              BirthYear EmployYear Salary\n",
              "95   95  Николай Блинов    1980      2000       14914 \n",
              "96   96  Александр Полешко 1989      2007       10874 \n",
              "97   97  Иван Орлов        1970      2003       18721 \n",
              "98   98  Иван Орлов        1982      2001       19257 \n",
              "99   99  Иван Новрузов     1975      2001       29221 \n",
              "100 100  Николай Козякин   1990      2007       14654 "
            ]
          },
          "metadata": {}
        }
      ]
    },
    {
      "cell_type": "markdown",
      "source": [
        "# Определим кол-во сотрудников с зарплатой более чем 15000:"
      ],
      "metadata": {
        "id": "CWm5rc8ErAYI"
      }
    },
    {
      "cell_type": "code",
      "source": [
        "salary_cmp_count <- nrow(df[df$Salary > 15000,])\n",
        "cat(sprintf(\"Число сотрудников с зарплатой, больше 15000: %i\", salary_cmp_count))"
      ],
      "metadata": {
        "colab": {
          "base_uri": "https://localhost:8080/"
        },
        "id": "7XwuutIqrCq4",
        "outputId": "6076a02c-3e8c-4b37-b6a3-fda282be6b20"
      },
      "execution_count": 30,
      "outputs": [
        {
          "output_type": "stream",
          "name": "stdout",
          "text": [
            "Число сотрудников с зарплатой, больше 15000: 81"
          ]
        }
      ]
    },
    {
      "cell_type": "markdown",
      "source": [
        "# Вычисляем суммарный налог сотрудников за всё время работы: "
      ],
      "metadata": {
        "id": "IdBf9BdArNsh"
      }
    },
    {
      "cell_type": "code",
      "source": [
        "# расчет суммарного подоходного налога за все время работы в организации\n",
        "currrent_year <- as.numeric(format(Sys.Date(), format=\"%Y\"))\n",
        "df$TotalIncomeTax <- with(df, (currrent_year - EmployYear)*Salary*0.13)\n",
        "\n",
        "# финальный результат\n",
        "head(df)"
      ],
      "metadata": {
        "colab": {
          "base_uri": "https://localhost:8080/",
          "height": 286
        },
        "id": "SqDgssqPrQgh",
        "outputId": "53e0c110-476e-42c0-971b-13c98448f00d"
      },
      "execution_count": 31,
      "outputs": [
        {
          "output_type": "display_data",
          "data": {
            "text/html": [
              "<table class=\"dataframe\">\n",
              "<caption>A data.frame: 6 × 6</caption>\n",
              "<thead>\n",
              "\t<tr><th></th><th scope=col>Nrow</th><th scope=col>Name</th><th scope=col>BirthYear</th><th scope=col>EmployYear</th><th scope=col>Salary</th><th scope=col>TotalIncomeTax</th></tr>\n",
              "\t<tr><th></th><th scope=col>&lt;int&gt;</th><th scope=col>&lt;chr&gt;</th><th scope=col>&lt;int&gt;</th><th scope=col>&lt;int&gt;</th><th scope=col>&lt;int&gt;</th><th scope=col>&lt;dbl&gt;</th></tr>\n",
              "</thead>\n",
              "<tbody>\n",
              "\t<tr><th scope=row>1</th><td>1</td><td>Александр Новрузов</td><td>1973</td><td>1996</td><td>25299</td><td> 88799.49</td></tr>\n",
              "\t<tr><th scope=row>2</th><td>2</td><td>Иван Орлов        </td><td>1987</td><td>2005</td><td>22930</td><td> 53656.20</td></tr>\n",
              "\t<tr><th scope=row>3</th><td>3</td><td>Иван Новрузов     </td><td>1965</td><td>1989</td><td>22377</td><td> 98906.34</td></tr>\n",
              "\t<tr><th scope=row>4</th><td>4</td><td>Александр Новрузов</td><td>1974</td><td>2001</td><td>18594</td><td> 53178.84</td></tr>\n",
              "\t<tr><th scope=row>5</th><td>5</td><td>Николай Новрузов  </td><td>1968</td><td>1990</td><td>28144</td><td>120737.76</td></tr>\n",
              "\t<tr><th scope=row>6</th><td>6</td><td>Иван Григорьев    </td><td>1968</td><td>1998</td><td>21634</td><td> 70310.50</td></tr>\n",
              "</tbody>\n",
              "</table>\n"
            ],
            "text/markdown": "\nA data.frame: 6 × 6\n\n| <!--/--> | Nrow &lt;int&gt; | Name &lt;chr&gt; | BirthYear &lt;int&gt; | EmployYear &lt;int&gt; | Salary &lt;int&gt; | TotalIncomeTax &lt;dbl&gt; |\n|---|---|---|---|---|---|---|\n| 1 | 1 | Александр Новрузов | 1973 | 1996 | 25299 |  88799.49 |\n| 2 | 2 | Иван Орлов         | 1987 | 2005 | 22930 |  53656.20 |\n| 3 | 3 | Иван Новрузов      | 1965 | 1989 | 22377 |  98906.34 |\n| 4 | 4 | Александр Новрузов | 1974 | 2001 | 18594 |  53178.84 |\n| 5 | 5 | Николай Новрузов   | 1968 | 1990 | 28144 | 120737.76 |\n| 6 | 6 | Иван Григорьев     | 1968 | 1998 | 21634 |  70310.50 |\n\n",
            "text/latex": "A data.frame: 6 × 6\n\\begin{tabular}{r|llllll}\n  & Nrow & Name & BirthYear & EmployYear & Salary & TotalIncomeTax\\\\\n  & <int> & <chr> & <int> & <int> & <int> & <dbl>\\\\\n\\hline\n\t1 & 1 & Александр Новрузов & 1973 & 1996 & 25299 &  88799.49\\\\\n\t2 & 2 & Иван Орлов         & 1987 & 2005 & 22930 &  53656.20\\\\\n\t3 & 3 & Иван Новрузов      & 1965 & 1989 & 22377 &  98906.34\\\\\n\t4 & 4 & Александр Новрузов & 1974 & 2001 & 18594 &  53178.84\\\\\n\t5 & 5 & Николай Новрузов   & 1968 & 1990 & 28144 & 120737.76\\\\\n\t6 & 6 & Иван Григорьев     & 1968 & 1998 & 21634 &  70310.50\\\\\n\\end{tabular}\n",
            "text/plain": [
              "  Nrow Name               BirthYear EmployYear Salary TotalIncomeTax\n",
              "1 1    Александр Новрузов 1973      1996       25299   88799.49     \n",
              "2 2    Иван Орлов         1987      2005       22930   53656.20     \n",
              "3 3    Иван Новрузов      1965      1989       22377   98906.34     \n",
              "4 4    Александр Новрузов 1974      2001       18594   53178.84     \n",
              "5 5    Николай Новрузов   1968      1990       28144  120737.76     \n",
              "6 6    Иван Григорьев     1968      1998       21634   70310.50     "
            ]
          },
          "metadata": {}
        }
      ]
    }
  ]
}