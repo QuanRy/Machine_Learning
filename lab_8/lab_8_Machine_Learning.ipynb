{
  "nbformat": 4,
  "nbformat_minor": 0,
  "metadata": {
    "colab": {
      "provenance": [],
      "authorship_tag": "ABX9TyMhJJ+3ytWCdt4jG+24xI3D",
      "include_colab_link": true
    },
    "kernelspec": {
      "name": "python3",
      "display_name": "Python 3"
    },
    "language_info": {
      "name": "python"
    }
  },
  "cells": [
    {
      "cell_type": "markdown",
      "metadata": {
        "id": "view-in-github",
        "colab_type": "text"
      },
      "source": [
        "<a href=\"https://colab.research.google.com/github/QuanRy/Machine_Learning/blob/main/lab_8/lab_8_Machine_Learning.ipynb\" target=\"_parent\"><img src=\"https://colab.research.google.com/assets/colab-badge.svg\" alt=\"Open In Colab\"/></a>"
      ]
    },
    {
      "cell_type": "code",
      "execution_count": 144,
      "metadata": {
        "id": "7v0I5e6MWTj8"
      },
      "outputs": [],
      "source": [
        "#БИБЛИОТЕКИ\n",
        "from sklearn.preprocessing import StandardScaler\n",
        "from sklearn.compose import ColumnTransformer\n",
        "from sklearn.preprocessing import OneHotEncoder\n",
        "from sklearn.model_selection import train_test_split\n",
        "import matplotlib.pyplot as plt\n",
        "from tensorflow import keras\n",
        "import tensorflow as tf\n",
        "import matplotlib as mpl\n",
        "import pandas as pd\n",
        "import numpy as np\n",
        "import sklearn\n",
        "import time\n",
        "import sys\n",
        "import os\n",
        "\n"
      ]
    },
    {
      "cell_type": "code",
      "source": [
        "# Загрузка данных\n",
        "df = pd.read_csv(\"loan3000.csv\", delimiter = ',')"
      ],
      "metadata": {
        "id": "cCUtc4BsXb3R"
      },
      "execution_count": 145,
      "outputs": []
    },
    {
      "cell_type": "code",
      "source": [
        "df.head()"
      ],
      "metadata": {
        "colab": {
          "base_uri": "https://localhost:8080/",
          "height": 206
        },
        "id": "SO9qpjZOXsby",
        "outputId": "e99d8a7a-ebc9-404c-b1df-f143e680f69d"
      },
      "execution_count": 146,
      "outputs": [
        {
          "output_type": "execute_result",
          "data": {
            "text/plain": [
              "   Unnamed: 0   outcome            purpose_    dti  borrower_score  \\\n",
              "0       32109  paid off  debt_consolidation  21.23            0.40   \n",
              "1       16982   default         credit_card  15.49            0.40   \n",
              "2       25335  paid off  debt_consolidation  27.30            0.70   \n",
              "3       34580  paid off      major_purchase  21.11            0.40   \n",
              "4       14424   default  debt_consolidation  16.46            0.45   \n",
              "\n",
              "   payment_inc_ratio  \n",
              "0            5.11135  \n",
              "1            5.43165  \n",
              "2            9.23003  \n",
              "3            2.33482  \n",
              "4           12.10320  "
            ],
            "text/html": [
              "\n",
              "  <div id=\"df-a3b38162-f9eb-426c-ac99-890dba8d511a\">\n",
              "    <div class=\"colab-df-container\">\n",
              "      <div>\n",
              "<style scoped>\n",
              "    .dataframe tbody tr th:only-of-type {\n",
              "        vertical-align: middle;\n",
              "    }\n",
              "\n",
              "    .dataframe tbody tr th {\n",
              "        vertical-align: top;\n",
              "    }\n",
              "\n",
              "    .dataframe thead th {\n",
              "        text-align: right;\n",
              "    }\n",
              "</style>\n",
              "<table border=\"1\" class=\"dataframe\">\n",
              "  <thead>\n",
              "    <tr style=\"text-align: right;\">\n",
              "      <th></th>\n",
              "      <th>Unnamed: 0</th>\n",
              "      <th>outcome</th>\n",
              "      <th>purpose_</th>\n",
              "      <th>dti</th>\n",
              "      <th>borrower_score</th>\n",
              "      <th>payment_inc_ratio</th>\n",
              "    </tr>\n",
              "  </thead>\n",
              "  <tbody>\n",
              "    <tr>\n",
              "      <th>0</th>\n",
              "      <td>32109</td>\n",
              "      <td>paid off</td>\n",
              "      <td>debt_consolidation</td>\n",
              "      <td>21.23</td>\n",
              "      <td>0.40</td>\n",
              "      <td>5.11135</td>\n",
              "    </tr>\n",
              "    <tr>\n",
              "      <th>1</th>\n",
              "      <td>16982</td>\n",
              "      <td>default</td>\n",
              "      <td>credit_card</td>\n",
              "      <td>15.49</td>\n",
              "      <td>0.40</td>\n",
              "      <td>5.43165</td>\n",
              "    </tr>\n",
              "    <tr>\n",
              "      <th>2</th>\n",
              "      <td>25335</td>\n",
              "      <td>paid off</td>\n",
              "      <td>debt_consolidation</td>\n",
              "      <td>27.30</td>\n",
              "      <td>0.70</td>\n",
              "      <td>9.23003</td>\n",
              "    </tr>\n",
              "    <tr>\n",
              "      <th>3</th>\n",
              "      <td>34580</td>\n",
              "      <td>paid off</td>\n",
              "      <td>major_purchase</td>\n",
              "      <td>21.11</td>\n",
              "      <td>0.40</td>\n",
              "      <td>2.33482</td>\n",
              "    </tr>\n",
              "    <tr>\n",
              "      <th>4</th>\n",
              "      <td>14424</td>\n",
              "      <td>default</td>\n",
              "      <td>debt_consolidation</td>\n",
              "      <td>16.46</td>\n",
              "      <td>0.45</td>\n",
              "      <td>12.10320</td>\n",
              "    </tr>\n",
              "  </tbody>\n",
              "</table>\n",
              "</div>\n",
              "      <button class=\"colab-df-convert\" onclick=\"convertToInteractive('df-a3b38162-f9eb-426c-ac99-890dba8d511a')\"\n",
              "              title=\"Convert this dataframe to an interactive table.\"\n",
              "              style=\"display:none;\">\n",
              "        \n",
              "  <svg xmlns=\"http://www.w3.org/2000/svg\" height=\"24px\"viewBox=\"0 0 24 24\"\n",
              "       width=\"24px\">\n",
              "    <path d=\"M0 0h24v24H0V0z\" fill=\"none\"/>\n",
              "    <path d=\"M18.56 5.44l.94 2.06.94-2.06 2.06-.94-2.06-.94-.94-2.06-.94 2.06-2.06.94zm-11 1L8.5 8.5l.94-2.06 2.06-.94-2.06-.94L8.5 2.5l-.94 2.06-2.06.94zm10 10l.94 2.06.94-2.06 2.06-.94-2.06-.94-.94-2.06-.94 2.06-2.06.94z\"/><path d=\"M17.41 7.96l-1.37-1.37c-.4-.4-.92-.59-1.43-.59-.52 0-1.04.2-1.43.59L10.3 9.45l-7.72 7.72c-.78.78-.78 2.05 0 2.83L4 21.41c.39.39.9.59 1.41.59.51 0 1.02-.2 1.41-.59l7.78-7.78 2.81-2.81c.8-.78.8-2.07 0-2.86zM5.41 20L4 18.59l7.72-7.72 1.47 1.35L5.41 20z\"/>\n",
              "  </svg>\n",
              "      </button>\n",
              "      \n",
              "  <style>\n",
              "    .colab-df-container {\n",
              "      display:flex;\n",
              "      flex-wrap:wrap;\n",
              "      gap: 12px;\n",
              "    }\n",
              "\n",
              "    .colab-df-convert {\n",
              "      background-color: #E8F0FE;\n",
              "      border: none;\n",
              "      border-radius: 50%;\n",
              "      cursor: pointer;\n",
              "      display: none;\n",
              "      fill: #1967D2;\n",
              "      height: 32px;\n",
              "      padding: 0 0 0 0;\n",
              "      width: 32px;\n",
              "    }\n",
              "\n",
              "    .colab-df-convert:hover {\n",
              "      background-color: #E2EBFA;\n",
              "      box-shadow: 0px 1px 2px rgba(60, 64, 67, 0.3), 0px 1px 3px 1px rgba(60, 64, 67, 0.15);\n",
              "      fill: #174EA6;\n",
              "    }\n",
              "\n",
              "    [theme=dark] .colab-df-convert {\n",
              "      background-color: #3B4455;\n",
              "      fill: #D2E3FC;\n",
              "    }\n",
              "\n",
              "    [theme=dark] .colab-df-convert:hover {\n",
              "      background-color: #434B5C;\n",
              "      box-shadow: 0px 1px 3px 1px rgba(0, 0, 0, 0.15);\n",
              "      filter: drop-shadow(0px 1px 2px rgba(0, 0, 0, 0.3));\n",
              "      fill: #FFFFFF;\n",
              "    }\n",
              "  </style>\n",
              "\n",
              "      <script>\n",
              "        const buttonEl =\n",
              "          document.querySelector('#df-a3b38162-f9eb-426c-ac99-890dba8d511a button.colab-df-convert');\n",
              "        buttonEl.style.display =\n",
              "          google.colab.kernel.accessAllowed ? 'block' : 'none';\n",
              "\n",
              "        async function convertToInteractive(key) {\n",
              "          const element = document.querySelector('#df-a3b38162-f9eb-426c-ac99-890dba8d511a');\n",
              "          const dataTable =\n",
              "            await google.colab.kernel.invokeFunction('convertToInteractive',\n",
              "                                                     [key], {});\n",
              "          if (!dataTable) return;\n",
              "\n",
              "          const docLinkHtml = 'Like what you see? Visit the ' +\n",
              "            '<a target=\"_blank\" href=https://colab.research.google.com/notebooks/data_table.ipynb>data table notebook</a>'\n",
              "            + ' to learn more about interactive tables.';\n",
              "          element.innerHTML = '';\n",
              "          dataTable['output_type'] = 'display_data';\n",
              "          await google.colab.output.renderOutput(dataTable, element);\n",
              "          const docLink = document.createElement('div');\n",
              "          docLink.innerHTML = docLinkHtml;\n",
              "          element.appendChild(docLink);\n",
              "        }\n",
              "      </script>\n",
              "    </div>\n",
              "  </div>\n",
              "  "
            ]
          },
          "metadata": {},
          "execution_count": 146
        }
      ]
    },
    {
      "cell_type": "code",
      "source": [
        "print(df.shape) "
      ],
      "metadata": {
        "colab": {
          "base_uri": "https://localhost:8080/"
        },
        "id": "ia21CvhNXvRJ",
        "outputId": "5e917f28-4df5-4ab4-8737-16da56ad564d"
      },
      "execution_count": 147,
      "outputs": [
        {
          "output_type": "stream",
          "name": "stdout",
          "text": [
            "(3000, 6)\n"
          ]
        }
      ]
    },
    {
      "cell_type": "code",
      "source": [
        "# Удаление столбца id\n",
        "df.drop(columns=['Unnamed: 0',\t'purpose_'], inplace=True)\n",
        "\n",
        "# Замена значений столбца sex\n",
        "df['outcome'].replace({'paid off': 0, 'default' : 1}, inplace = True)\n",
        "\n",
        "df.head()"
      ],
      "metadata": {
        "colab": {
          "base_uri": "https://localhost:8080/",
          "height": 206
        },
        "id": "NmgyWaUnX9Iq",
        "outputId": "cbfecafc-8ab7-4d0e-da12-f42e03a2b196"
      },
      "execution_count": 148,
      "outputs": [
        {
          "output_type": "execute_result",
          "data": {
            "text/plain": [
              "   outcome    dti  borrower_score  payment_inc_ratio\n",
              "0        0  21.23            0.40            5.11135\n",
              "1        1  15.49            0.40            5.43165\n",
              "2        0  27.30            0.70            9.23003\n",
              "3        0  21.11            0.40            2.33482\n",
              "4        1  16.46            0.45           12.10320"
            ],
            "text/html": [
              "\n",
              "  <div id=\"df-fa711d74-3bfa-4ecb-b792-062aae1e1e4d\">\n",
              "    <div class=\"colab-df-container\">\n",
              "      <div>\n",
              "<style scoped>\n",
              "    .dataframe tbody tr th:only-of-type {\n",
              "        vertical-align: middle;\n",
              "    }\n",
              "\n",
              "    .dataframe tbody tr th {\n",
              "        vertical-align: top;\n",
              "    }\n",
              "\n",
              "    .dataframe thead th {\n",
              "        text-align: right;\n",
              "    }\n",
              "</style>\n",
              "<table border=\"1\" class=\"dataframe\">\n",
              "  <thead>\n",
              "    <tr style=\"text-align: right;\">\n",
              "      <th></th>\n",
              "      <th>outcome</th>\n",
              "      <th>dti</th>\n",
              "      <th>borrower_score</th>\n",
              "      <th>payment_inc_ratio</th>\n",
              "    </tr>\n",
              "  </thead>\n",
              "  <tbody>\n",
              "    <tr>\n",
              "      <th>0</th>\n",
              "      <td>0</td>\n",
              "      <td>21.23</td>\n",
              "      <td>0.40</td>\n",
              "      <td>5.11135</td>\n",
              "    </tr>\n",
              "    <tr>\n",
              "      <th>1</th>\n",
              "      <td>1</td>\n",
              "      <td>15.49</td>\n",
              "      <td>0.40</td>\n",
              "      <td>5.43165</td>\n",
              "    </tr>\n",
              "    <tr>\n",
              "      <th>2</th>\n",
              "      <td>0</td>\n",
              "      <td>27.30</td>\n",
              "      <td>0.70</td>\n",
              "      <td>9.23003</td>\n",
              "    </tr>\n",
              "    <tr>\n",
              "      <th>3</th>\n",
              "      <td>0</td>\n",
              "      <td>21.11</td>\n",
              "      <td>0.40</td>\n",
              "      <td>2.33482</td>\n",
              "    </tr>\n",
              "    <tr>\n",
              "      <th>4</th>\n",
              "      <td>1</td>\n",
              "      <td>16.46</td>\n",
              "      <td>0.45</td>\n",
              "      <td>12.10320</td>\n",
              "    </tr>\n",
              "  </tbody>\n",
              "</table>\n",
              "</div>\n",
              "      <button class=\"colab-df-convert\" onclick=\"convertToInteractive('df-fa711d74-3bfa-4ecb-b792-062aae1e1e4d')\"\n",
              "              title=\"Convert this dataframe to an interactive table.\"\n",
              "              style=\"display:none;\">\n",
              "        \n",
              "  <svg xmlns=\"http://www.w3.org/2000/svg\" height=\"24px\"viewBox=\"0 0 24 24\"\n",
              "       width=\"24px\">\n",
              "    <path d=\"M0 0h24v24H0V0z\" fill=\"none\"/>\n",
              "    <path d=\"M18.56 5.44l.94 2.06.94-2.06 2.06-.94-2.06-.94-.94-2.06-.94 2.06-2.06.94zm-11 1L8.5 8.5l.94-2.06 2.06-.94-2.06-.94L8.5 2.5l-.94 2.06-2.06.94zm10 10l.94 2.06.94-2.06 2.06-.94-2.06-.94-.94-2.06-.94 2.06-2.06.94z\"/><path d=\"M17.41 7.96l-1.37-1.37c-.4-.4-.92-.59-1.43-.59-.52 0-1.04.2-1.43.59L10.3 9.45l-7.72 7.72c-.78.78-.78 2.05 0 2.83L4 21.41c.39.39.9.59 1.41.59.51 0 1.02-.2 1.41-.59l7.78-7.78 2.81-2.81c.8-.78.8-2.07 0-2.86zM5.41 20L4 18.59l7.72-7.72 1.47 1.35L5.41 20z\"/>\n",
              "  </svg>\n",
              "      </button>\n",
              "      \n",
              "  <style>\n",
              "    .colab-df-container {\n",
              "      display:flex;\n",
              "      flex-wrap:wrap;\n",
              "      gap: 12px;\n",
              "    }\n",
              "\n",
              "    .colab-df-convert {\n",
              "      background-color: #E8F0FE;\n",
              "      border: none;\n",
              "      border-radius: 50%;\n",
              "      cursor: pointer;\n",
              "      display: none;\n",
              "      fill: #1967D2;\n",
              "      height: 32px;\n",
              "      padding: 0 0 0 0;\n",
              "      width: 32px;\n",
              "    }\n",
              "\n",
              "    .colab-df-convert:hover {\n",
              "      background-color: #E2EBFA;\n",
              "      box-shadow: 0px 1px 2px rgba(60, 64, 67, 0.3), 0px 1px 3px 1px rgba(60, 64, 67, 0.15);\n",
              "      fill: #174EA6;\n",
              "    }\n",
              "\n",
              "    [theme=dark] .colab-df-convert {\n",
              "      background-color: #3B4455;\n",
              "      fill: #D2E3FC;\n",
              "    }\n",
              "\n",
              "    [theme=dark] .colab-df-convert:hover {\n",
              "      background-color: #434B5C;\n",
              "      box-shadow: 0px 1px 3px 1px rgba(0, 0, 0, 0.15);\n",
              "      filter: drop-shadow(0px 1px 2px rgba(0, 0, 0, 0.3));\n",
              "      fill: #FFFFFF;\n",
              "    }\n",
              "  </style>\n",
              "\n",
              "      <script>\n",
              "        const buttonEl =\n",
              "          document.querySelector('#df-fa711d74-3bfa-4ecb-b792-062aae1e1e4d button.colab-df-convert');\n",
              "        buttonEl.style.display =\n",
              "          google.colab.kernel.accessAllowed ? 'block' : 'none';\n",
              "\n",
              "        async function convertToInteractive(key) {\n",
              "          const element = document.querySelector('#df-fa711d74-3bfa-4ecb-b792-062aae1e1e4d');\n",
              "          const dataTable =\n",
              "            await google.colab.kernel.invokeFunction('convertToInteractive',\n",
              "                                                     [key], {});\n",
              "          if (!dataTable) return;\n",
              "\n",
              "          const docLinkHtml = 'Like what you see? Visit the ' +\n",
              "            '<a target=\"_blank\" href=https://colab.research.google.com/notebooks/data_table.ipynb>data table notebook</a>'\n",
              "            + ' to learn more about interactive tables.';\n",
              "          element.innerHTML = '';\n",
              "          dataTable['output_type'] = 'display_data';\n",
              "          await google.colab.output.renderOutput(dataTable, element);\n",
              "          const docLink = document.createElement('div');\n",
              "          docLink.innerHTML = docLinkHtml;\n",
              "          element.appendChild(docLink);\n",
              "        }\n",
              "      </script>\n",
              "    </div>\n",
              "  </div>\n",
              "  "
            ]
          },
          "metadata": {},
          "execution_count": 148
        }
      ]
    },
    {
      "cell_type": "code",
      "source": [
        "#ВЫБОРКИ ДЛЯ МОДЕЛИ\n",
        "X = df.iloc[:, :-1]\n",
        "y = df.iloc[:, -1]"
      ],
      "metadata": {
        "id": "yRVzm-RDYMEl"
      },
      "execution_count": 162,
      "outputs": []
    },
    {
      "cell_type": "code",
      "source": [
        "#КОДИРОВАНИЕ КАТЕГОРИАЛЬНЫХ ПРИЗНАКОВ\n",
        "ct = ColumnTransformer([('encoder', OneHotEncoder(), [0, 2])], remainder='passthrough')\n",
        "X = ct.fit_transform(X)"
      ],
      "metadata": {
        "id": "GWFN88b2Yb9y"
      },
      "execution_count": 163,
      "outputs": []
    },
    {
      "cell_type": "code",
      "source": [
        "#МАСШТАБИРОВАНИЕ ДАННЫХ\n",
        "scaler = StandardScaler(with_mean=False)\n",
        "X = scaler.fit_transform(X)\n",
        "\n",
        "\n",
        "#РАЗДЕЛЕНИЕ ДАННЫХ НА ТРЕНИРОВОЧНЫЙ И ТЕСТОВЫЙ НАБОРЫ\n",
        "X_train, X_test, y_train, y_test = train_test_split(X, y, test_size=0.2)\n",
        "     "
      ],
      "metadata": {
        "id": "RBVVa4OSbdQR"
      },
      "execution_count": 164,
      "outputs": []
    },
    {
      "cell_type": "code",
      "source": [
        "#СОЗДАНИЕ МОДЕЛИ\n",
        "model = tf.keras.models.Sequential([\n",
        "    tf.keras.layers.Dense(units=16, activation='relu', input_shape=[X.shape[1]]),\n",
        "    tf.keras.layers.Dense(units=8, activation='relu'),\n",
        "    tf.keras.layers.Dense(units=1, activation='sigmoid')\n",
        "])"
      ],
      "metadata": {
        "id": "9t4mHsmLbg-z"
      },
      "execution_count": 165,
      "outputs": []
    },
    {
      "cell_type": "code",
      "source": [
        "#КОМПИЛЯЦИЯ МОДЕЛИ\n",
        "model.compile(optimizer='adam', loss='binary_crossentropy', metrics=['accuracy'])"
      ],
      "metadata": {
        "id": "SbBwzrunbkOI"
      },
      "execution_count": 166,
      "outputs": []
    },
    {
      "cell_type": "code",
      "source": [
        "#ОБУЧЕНИЕ МОДЕЛИ\n",
        "\n",
        "X_train = X_train.toarray()\n",
        "X_test = X_test.toarray()\n",
        "#y_train = y_train.toarray()\n",
        "\n",
        "model.fit(X_train, y_train, epochs=50, validation_data=(X_test, y_test))"
      ],
      "metadata": {
        "colab": {
          "base_uri": "https://localhost:8080/"
        },
        "id": "CNO3jsrAbnJ4",
        "outputId": "0975a1d4-2e08-4715-a671-f0d8f442c58e"
      },
      "execution_count": 167,
      "outputs": [
        {
          "output_type": "stream",
          "name": "stdout",
          "text": [
            "Epoch 1/50\n",
            "75/75 [==============================] - 2s 7ms/step - loss: -9.9369 - accuracy: 0.0000e+00 - val_loss: -24.9923 - val_accuracy: 0.0000e+00\n",
            "Epoch 2/50\n",
            "75/75 [==============================] - 0s 3ms/step - loss: -54.5001 - accuracy: 0.0000e+00 - val_loss: -107.0924 - val_accuracy: 0.0000e+00\n",
            "Epoch 3/50\n",
            "75/75 [==============================] - 0s 3ms/step - loss: -193.2175 - accuracy: 0.0000e+00 - val_loss: -334.2691 - val_accuracy: 0.0000e+00\n",
            "Epoch 4/50\n",
            "75/75 [==============================] - 0s 3ms/step - loss: -513.4808 - accuracy: 0.0000e+00 - val_loss: -792.8285 - val_accuracy: 0.0000e+00\n",
            "Epoch 5/50\n",
            "75/75 [==============================] - 0s 3ms/step - loss: -1093.6667 - accuracy: 0.0000e+00 - val_loss: -1550.3101 - val_accuracy: 0.0000e+00\n",
            "Epoch 6/50\n",
            "75/75 [==============================] - 0s 3ms/step - loss: -1997.6521 - accuracy: 0.0000e+00 - val_loss: -2678.0828 - val_accuracy: 0.0000e+00\n",
            "Epoch 7/50\n",
            "75/75 [==============================] - 0s 3ms/step - loss: -3289.8079 - accuracy: 0.0000e+00 - val_loss: -4252.0967 - val_accuracy: 0.0000e+00\n",
            "Epoch 8/50\n",
            "75/75 [==============================] - 0s 3ms/step - loss: -5068.5952 - accuracy: 0.0000e+00 - val_loss: -6367.4106 - val_accuracy: 0.0000e+00\n",
            "Epoch 9/50\n",
            "75/75 [==============================] - 0s 3ms/step - loss: -7425.8076 - accuracy: 0.0000e+00 - val_loss: -9148.2793 - val_accuracy: 0.0000e+00\n",
            "Epoch 10/50\n",
            "75/75 [==============================] - 0s 3ms/step - loss: -10454.1562 - accuracy: 0.0000e+00 - val_loss: -12635.4150 - val_accuracy: 0.0000e+00\n",
            "Epoch 11/50\n",
            "75/75 [==============================] - 0s 2ms/step - loss: -14182.8213 - accuracy: 0.0000e+00 - val_loss: -16867.8516 - val_accuracy: 0.0000e+00\n",
            "Epoch 12/50\n",
            "75/75 [==============================] - 0s 3ms/step - loss: -18658.3008 - accuracy: 0.0000e+00 - val_loss: -21869.3398 - val_accuracy: 0.0000e+00\n",
            "Epoch 13/50\n",
            "75/75 [==============================] - 0s 3ms/step - loss: -23907.9434 - accuracy: 0.0000e+00 - val_loss: -27720.6602 - val_accuracy: 0.0000e+00\n",
            "Epoch 14/50\n",
            "75/75 [==============================] - 0s 3ms/step - loss: -30036.9043 - accuracy: 0.0000e+00 - val_loss: -34542.0977 - val_accuracy: 0.0000e+00\n",
            "Epoch 15/50\n",
            "75/75 [==============================] - 0s 2ms/step - loss: -37163.5898 - accuracy: 0.0000e+00 - val_loss: -42419.3281 - val_accuracy: 0.0000e+00\n",
            "Epoch 16/50\n",
            "75/75 [==============================] - 0s 3ms/step - loss: -45298.5117 - accuracy: 0.0000e+00 - val_loss: -51316.9336 - val_accuracy: 0.0000e+00\n",
            "Epoch 17/50\n",
            "75/75 [==============================] - 0s 3ms/step - loss: -54423.7695 - accuracy: 0.0000e+00 - val_loss: -61241.5938 - val_accuracy: 0.0000e+00\n",
            "Epoch 18/50\n",
            "75/75 [==============================] - 0s 3ms/step - loss: -64575.8516 - accuracy: 0.0000e+00 - val_loss: -72167.9219 - val_accuracy: 0.0000e+00\n",
            "Epoch 19/50\n",
            "75/75 [==============================] - 0s 3ms/step - loss: -75762.6562 - accuracy: 0.0000e+00 - val_loss: -84319.4297 - val_accuracy: 0.0000e+00\n",
            "Epoch 20/50\n",
            "75/75 [==============================] - 0s 3ms/step - loss: -88046.4375 - accuracy: 0.0000e+00 - val_loss: -97503.4062 - val_accuracy: 0.0000e+00\n",
            "Epoch 21/50\n",
            "75/75 [==============================] - 0s 3ms/step - loss: -101425.2500 - accuracy: 0.0000e+00 - val_loss: -111889.3438 - val_accuracy: 0.0000e+00\n",
            "Epoch 22/50\n",
            "75/75 [==============================] - 0s 3ms/step - loss: -115978.1875 - accuracy: 0.0000e+00 - val_loss: -127544.4141 - val_accuracy: 0.0000e+00\n",
            "Epoch 23/50\n",
            "75/75 [==============================] - 0s 3ms/step - loss: -131878.9219 - accuracy: 0.0000e+00 - val_loss: -144702.4219 - val_accuracy: 0.0000e+00\n",
            "Epoch 24/50\n",
            "75/75 [==============================] - 0s 3ms/step - loss: -149169.6875 - accuracy: 0.0000e+00 - val_loss: -163066.4531 - val_accuracy: 0.0000e+00\n",
            "Epoch 25/50\n",
            "75/75 [==============================] - 0s 3ms/step - loss: -167710.9062 - accuracy: 0.0000e+00 - val_loss: -182898.1875 - val_accuracy: 0.0000e+00\n",
            "Epoch 26/50\n",
            "75/75 [==============================] - 0s 3ms/step - loss: -187580.4062 - accuracy: 0.0000e+00 - val_loss: -203949.2812 - val_accuracy: 0.0000e+00\n",
            "Epoch 27/50\n",
            "75/75 [==============================] - 0s 3ms/step - loss: -208728.9688 - accuracy: 0.0000e+00 - val_loss: -226424.9844 - val_accuracy: 0.0000e+00\n",
            "Epoch 28/50\n",
            "75/75 [==============================] - 0s 3ms/step - loss: -231218.0469 - accuracy: 0.0000e+00 - val_loss: -250167.8438 - val_accuracy: 0.0000e+00\n",
            "Epoch 29/50\n",
            "75/75 [==============================] - 0s 3ms/step - loss: -255021.3594 - accuracy: 0.0000e+00 - val_loss: -275447.3750 - val_accuracy: 0.0000e+00\n",
            "Epoch 30/50\n",
            "75/75 [==============================] - 0s 2ms/step - loss: -280190.5625 - accuracy: 0.0000e+00 - val_loss: -302077.9688 - val_accuracy: 0.0000e+00\n",
            "Epoch 31/50\n",
            "75/75 [==============================] - 0s 3ms/step - loss: -306719.5625 - accuracy: 0.0000e+00 - val_loss: -330056.5938 - val_accuracy: 0.0000e+00\n",
            "Epoch 32/50\n",
            "75/75 [==============================] - 0s 3ms/step - loss: -334641.0625 - accuracy: 0.0000e+00 - val_loss: -359509.9062 - val_accuracy: 0.0000e+00\n",
            "Epoch 33/50\n",
            "75/75 [==============================] - 0s 3ms/step - loss: -363967.7188 - accuracy: 0.0000e+00 - val_loss: -390381.7188 - val_accuracy: 0.0000e+00\n",
            "Epoch 34/50\n",
            "75/75 [==============================] - 0s 3ms/step - loss: -394684.3750 - accuracy: 0.0000e+00 - val_loss: -422705.0000 - val_accuracy: 0.0000e+00\n",
            "Epoch 35/50\n",
            "75/75 [==============================] - 0s 3ms/step - loss: -426829.3125 - accuracy: 0.0000e+00 - val_loss: -456529.5938 - val_accuracy: 0.0000e+00\n",
            "Epoch 36/50\n",
            "75/75 [==============================] - 0s 3ms/step - loss: -460429.2188 - accuracy: 0.0000e+00 - val_loss: -491714.4688 - val_accuracy: 0.0000e+00\n",
            "Epoch 37/50\n",
            "75/75 [==============================] - 0s 3ms/step - loss: -495444.1562 - accuracy: 0.0000e+00 - val_loss: -528437.2500 - val_accuracy: 0.0000e+00\n",
            "Epoch 38/50\n",
            "75/75 [==============================] - 0s 2ms/step - loss: -531897.5000 - accuracy: 0.0000e+00 - val_loss: -566903.6250 - val_accuracy: 0.0000e+00\n",
            "Epoch 39/50\n",
            "75/75 [==============================] - 0s 3ms/step - loss: -569894.1875 - accuracy: 0.0000e+00 - val_loss: -606701.8750 - val_accuracy: 0.0000e+00\n",
            "Epoch 40/50\n",
            "75/75 [==============================] - 0s 3ms/step - loss: -609391.0625 - accuracy: 0.0000e+00 - val_loss: -648008.5625 - val_accuracy: 0.0000e+00\n",
            "Epoch 41/50\n",
            "75/75 [==============================] - 0s 3ms/step - loss: -650353.6250 - accuracy: 0.0000e+00 - val_loss: -690936.0000 - val_accuracy: 0.0000e+00\n",
            "Epoch 42/50\n",
            "75/75 [==============================] - 0s 3ms/step - loss: -692804.2500 - accuracy: 0.0000e+00 - val_loss: -735536.1875 - val_accuracy: 0.0000e+00\n",
            "Epoch 43/50\n",
            "75/75 [==============================] - 0s 2ms/step - loss: -736854.7500 - accuracy: 0.0000e+00 - val_loss: -781180.5000 - val_accuracy: 0.0000e+00\n",
            "Epoch 44/50\n",
            "75/75 [==============================] - 0s 2ms/step - loss: -782291.7500 - accuracy: 0.0000e+00 - val_loss: -829013.0000 - val_accuracy: 0.0000e+00\n",
            "Epoch 45/50\n",
            "75/75 [==============================] - 0s 3ms/step - loss: -829353.6250 - accuracy: 0.0000e+00 - val_loss: -878298.8750 - val_accuracy: 0.0000e+00\n",
            "Epoch 46/50\n",
            "75/75 [==============================] - 0s 3ms/step - loss: -877988.8750 - accuracy: 0.0000e+00 - val_loss: -928918.7500 - val_accuracy: 0.0000e+00\n",
            "Epoch 47/50\n",
            "75/75 [==============================] - 0s 4ms/step - loss: -928119.8750 - accuracy: 0.0000e+00 - val_loss: -981429.1250 - val_accuracy: 0.0000e+00\n",
            "Epoch 48/50\n",
            "75/75 [==============================] - 0s 3ms/step - loss: -979847.2500 - accuracy: 0.0000e+00 - val_loss: -1035535.6875 - val_accuracy: 0.0000e+00\n",
            "Epoch 49/50\n",
            "75/75 [==============================] - 0s 4ms/step - loss: -1033197.4375 - accuracy: 0.0000e+00 - val_loss: -1091089.5000 - val_accuracy: 0.0000e+00\n",
            "Epoch 50/50\n",
            "75/75 [==============================] - 0s 3ms/step - loss: -1088192.7500 - accuracy: 0.0000e+00 - val_loss: -1148179.7500 - val_accuracy: 0.0000e+00\n"
          ]
        },
        {
          "output_type": "execute_result",
          "data": {
            "text/plain": [
              "<keras.callbacks.History at 0x7fdc8f1f69b0>"
            ]
          },
          "metadata": {},
          "execution_count": 167
        }
      ]
    },
    {
      "cell_type": "code",
      "source": [
        "#ОЦЕНКА МОДЕЛИ НА ТЕСТОВОМ НАБОРЕ ДАННЫХ\n",
        "_, accuracy = model.evaluate(X_test, y_test)\n",
        "print('Качество(точность): %.4f' % (accuracy*100))"
      ],
      "metadata": {
        "colab": {
          "base_uri": "https://localhost:8080/"
        },
        "id": "Ujey8kMmbvtU",
        "outputId": "9a494d02-e54a-45ad-c81f-0529351052ec"
      },
      "execution_count": 168,
      "outputs": [
        {
          "output_type": "stream",
          "name": "stdout",
          "text": [
            "19/19 [==============================] - 0s 2ms/step - loss: -1148179.7500 - accuracy: 0.0000e+00\n",
            "Качество(точность): 0.0000\n"
          ]
        }
      ]
    },
    {
      "cell_type": "code",
      "source": [
        "#ПРИМЕР ИСПОЛЬЗОВАНИЯ МОДЕЛИ ДЛЯ ПРЕДСКАЗАНИЯ КЛАССА\n",
        "test_sample = np.array([0, 21.23,\t0.40]).reshape(1, -1)\n",
        "test_sample = ct.transform(test_sample) # преобразование категориальных признаков\n",
        "test_sample = scaler.transform(test_sample) # масштабирование"
      ],
      "metadata": {
        "colab": {
          "base_uri": "https://localhost:8080/"
        },
        "id": "fueCJy6abxgx",
        "outputId": "51e4f7af-271e-4b57-c328-e09b3e23b9b6"
      },
      "execution_count": 169,
      "outputs": [
        {
          "output_type": "stream",
          "name": "stderr",
          "text": [
            "/usr/local/lib/python3.10/dist-packages/sklearn/base.py:439: UserWarning: X does not have valid feature names, but OneHotEncoder was fitted with feature names\n",
            "  warnings.warn(\n"
          ]
        }
      ]
    },
    {
      "cell_type": "code",
      "source": [
        "predicted_class = model.predict(test_sample)[0][0]"
      ],
      "metadata": {
        "colab": {
          "base_uri": "https://localhost:8080/"
        },
        "id": "hCUdwOfQh85v",
        "outputId": "40dd5945-a2e1-409c-feb7-960cec961ce5"
      },
      "execution_count": 170,
      "outputs": [
        {
          "output_type": "stream",
          "name": "stdout",
          "text": [
            "1/1 [==============================] - 0s 155ms/step\n"
          ]
        }
      ]
    },
    {
      "cell_type": "code",
      "source": [
        "#ВЕРОЯТНОСТЬ ПРИНАДЛЕЖНОСТИ К КЛАССУ 1\n",
        "print('Predicted class probability:', predicted_class)"
      ],
      "metadata": {
        "colab": {
          "base_uri": "https://localhost:8080/"
        },
        "id": "8O6x9E43iFNK",
        "outputId": "037e0669-5c73-490f-8ad4-d2fa513021fe"
      },
      "execution_count": 171,
      "outputs": [
        {
          "output_type": "stream",
          "name": "stdout",
          "text": [
            "Predicted class probability: 1.0\n"
          ]
        }
      ]
    },
    {
      "cell_type": "code",
      "source": [
        "#ОКРУГЛЕНИЕ ВЕРОЯТНОСТИ, ПРЕВРАЩЕНИЕ В ЦЕЛОЧИСЛЕННЫЙ КЛАСС\n",
        "predicted_class = int(np.round(predicted_class))\n",
        "print('Predicted class:', predicted_class)"
      ],
      "metadata": {
        "colab": {
          "base_uri": "https://localhost:8080/"
        },
        "id": "jsedakYBiIXs",
        "outputId": "1154ee46-00a5-46d5-829a-4c14edd56cdf"
      },
      "execution_count": 172,
      "outputs": [
        {
          "output_type": "stream",
          "name": "stdout",
          "text": [
            "Predicted class: 1\n"
          ]
        }
      ]
    },
    {
      "cell_type": "code",
      "source": [
        "# График точности и функции потерь\n",
        "history = model.fit(X_train, y_train, epochs=50, validation_data=(X_test, y_test))\n",
        "training_loss = history.history['loss']\n",
        "test_loss = history.history['val_loss']\n",
        "epoch_count = range(1, len(training_loss) + 1)\n",
        "\n",
        "plt.plot(epoch_count, training_loss, 'r--')\n",
        "plt.plot(epoch_count, test_loss, 'b-')\n",
        "plt.legend(['Training Loss', 'Test Loss'])\n",
        "plt.xlabel('Epoch')\n",
        "plt.ylabel('Loss')\n",
        "plt.show()\n",
        "\n",
        "training_acc = history.history['accuracy']\n",
        "test_acc = history.history['val_accuracy']\n",
        "\n",
        "plt.plot(epoch_count, training_acc, 'r--')\n",
        "plt.plot(epoch_count, test_acc, 'b-', alpha=0.7)\n",
        "plt.legend(['Training Accuracy', 'Test Accuracy'])\n",
        "plt.xlabel('Epoch')\n",
        "plt.ylabel('Accuracy Score')\n",
        "plt.show()"
      ],
      "metadata": {
        "colab": {
          "base_uri": "https://localhost:8080/",
          "height": 1000
        },
        "id": "Y_M5q9ViiMfe",
        "outputId": "4ae085a0-da44-4633-ecef-64c373f4b29a"
      },
      "execution_count": 173,
      "outputs": [
        {
          "output_type": "stream",
          "name": "stdout",
          "text": [
            "Epoch 1/50\n",
            "75/75 [==============================] - 0s 4ms/step - loss: -1144691.8750 - accuracy: 0.0000e+00 - val_loss: -1207368.3750 - val_accuracy: 0.0000e+00\n",
            "Epoch 2/50\n",
            "75/75 [==============================] - 0s 2ms/step - loss: -1202952.3750 - accuracy: 0.0000e+00 - val_loss: -1267839.1250 - val_accuracy: 0.0000e+00\n",
            "Epoch 3/50\n",
            "75/75 [==============================] - 0s 3ms/step - loss: -1262725.0000 - accuracy: 0.0000e+00 - val_loss: -1330467.7500 - val_accuracy: 0.0000e+00\n",
            "Epoch 4/50\n",
            "75/75 [==============================] - 0s 3ms/step - loss: -1324256.6250 - accuracy: 0.0000e+00 - val_loss: -1394324.7500 - val_accuracy: 0.0000e+00\n",
            "Epoch 5/50\n",
            "75/75 [==============================] - 0s 3ms/step - loss: -1387281.7500 - accuracy: 0.0000e+00 - val_loss: -1460403.2500 - val_accuracy: 0.0000e+00\n",
            "Epoch 6/50\n",
            "75/75 [==============================] - 0s 3ms/step - loss: -1452148.7500 - accuracy: 0.0000e+00 - val_loss: -1527576.7500 - val_accuracy: 0.0000e+00\n",
            "Epoch 7/50\n",
            "75/75 [==============================] - 0s 3ms/step - loss: -1518638.3750 - accuracy: 0.0000e+00 - val_loss: -1596808.3750 - val_accuracy: 0.0000e+00\n",
            "Epoch 8/50\n",
            "75/75 [==============================] - 0s 3ms/step - loss: -1586828.2500 - accuracy: 0.0000e+00 - val_loss: -1667733.0000 - val_accuracy: 0.0000e+00\n",
            "Epoch 9/50\n",
            "75/75 [==============================] - 0s 3ms/step - loss: -1656634.5000 - accuracy: 0.0000e+00 - val_loss: -1740813.8750 - val_accuracy: 0.0000e+00\n",
            "Epoch 10/50\n",
            "75/75 [==============================] - 0s 2ms/step - loss: -1728306.1250 - accuracy: 0.0000e+00 - val_loss: -1814884.5000 - val_accuracy: 0.0000e+00\n",
            "Epoch 11/50\n",
            "75/75 [==============================] - 0s 3ms/step - loss: -1801570.5000 - accuracy: 0.0000e+00 - val_loss: -1890970.8750 - val_accuracy: 0.0000e+00\n",
            "Epoch 12/50\n",
            "75/75 [==============================] - 0s 2ms/step - loss: -1876559.3750 - accuracy: 0.0000e+00 - val_loss: -1969246.7500 - val_accuracy: 0.0000e+00\n",
            "Epoch 13/50\n",
            "75/75 [==============================] - 0s 3ms/step - loss: -1953341.5000 - accuracy: 0.0000e+00 - val_loss: -2049188.7500 - val_accuracy: 0.0000e+00\n",
            "Epoch 14/50\n",
            "75/75 [==============================] - 0s 2ms/step - loss: -2031896.3750 - accuracy: 0.0000e+00 - val_loss: -2130700.5000 - val_accuracy: 0.0000e+00\n",
            "Epoch 15/50\n",
            "75/75 [==============================] - 0s 3ms/step - loss: -2112063.5000 - accuracy: 0.0000e+00 - val_loss: -2214732.2500 - val_accuracy: 0.0000e+00\n",
            "Epoch 16/50\n",
            "75/75 [==============================] - 0s 3ms/step - loss: -2194267.7500 - accuracy: 0.0000e+00 - val_loss: -2299494.0000 - val_accuracy: 0.0000e+00\n",
            "Epoch 17/50\n",
            "75/75 [==============================] - 0s 2ms/step - loss: -2278029.7500 - accuracy: 0.0000e+00 - val_loss: -2386840.7500 - val_accuracy: 0.0000e+00\n",
            "Epoch 18/50\n",
            "75/75 [==============================] - 0s 2ms/step - loss: -2363803.0000 - accuracy: 0.0000e+00 - val_loss: -2475578.2500 - val_accuracy: 0.0000e+00\n",
            "Epoch 19/50\n",
            "75/75 [==============================] - 0s 3ms/step - loss: -2451299.5000 - accuracy: 0.0000e+00 - val_loss: -2566681.0000 - val_accuracy: 0.0000e+00\n",
            "Epoch 20/50\n",
            "75/75 [==============================] - 0s 3ms/step - loss: -2540689.0000 - accuracy: 0.0000e+00 - val_loss: -2659464.7500 - val_accuracy: 0.0000e+00\n",
            "Epoch 21/50\n",
            "75/75 [==============================] - 0s 2ms/step - loss: -2631949.7500 - accuracy: 0.0000e+00 - val_loss: -2753955.2500 - val_accuracy: 0.0000e+00\n",
            "Epoch 22/50\n",
            "75/75 [==============================] - 0s 2ms/step - loss: -2724981.2500 - accuracy: 0.0000e+00 - val_loss: -2850886.2500 - val_accuracy: 0.0000e+00\n",
            "Epoch 23/50\n",
            "75/75 [==============================] - 0s 3ms/step - loss: -2820119.0000 - accuracy: 0.0000e+00 - val_loss: -2948793.5000 - val_accuracy: 0.0000e+00\n",
            "Epoch 24/50\n",
            "75/75 [==============================] - 0s 3ms/step - loss: -2916923.0000 - accuracy: 0.0000e+00 - val_loss: -3049652.0000 - val_accuracy: 0.0000e+00\n",
            "Epoch 25/50\n",
            "75/75 [==============================] - 0s 2ms/step - loss: -3015760.7500 - accuracy: 0.0000e+00 - val_loss: -3152531.2500 - val_accuracy: 0.0000e+00\n",
            "Epoch 26/50\n",
            "75/75 [==============================] - 0s 2ms/step - loss: -3116547.7500 - accuracy: 0.0000e+00 - val_loss: -3256907.2500 - val_accuracy: 0.0000e+00\n",
            "Epoch 27/50\n",
            "75/75 [==============================] - 0s 2ms/step - loss: -3219141.0000 - accuracy: 0.0000e+00 - val_loss: -3363926.2500 - val_accuracy: 0.0000e+00\n",
            "Epoch 28/50\n",
            "75/75 [==============================] - 0s 3ms/step - loss: -3323751.5000 - accuracy: 0.0000e+00 - val_loss: -3472323.0000 - val_accuracy: 0.0000e+00\n",
            "Epoch 29/50\n",
            "75/75 [==============================] - 0s 3ms/step - loss: -3430234.0000 - accuracy: 0.0000e+00 - val_loss: -3583126.2500 - val_accuracy: 0.0000e+00\n",
            "Epoch 30/50\n",
            "75/75 [==============================] - 0s 3ms/step - loss: -3538805.5000 - accuracy: 0.0000e+00 - val_loss: -3695304.0000 - val_accuracy: 0.0000e+00\n",
            "Epoch 31/50\n",
            "75/75 [==============================] - 0s 3ms/step - loss: -3649264.7500 - accuracy: 0.0000e+00 - val_loss: -3809803.5000 - val_accuracy: 0.0000e+00\n",
            "Epoch 32/50\n",
            "75/75 [==============================] - 0s 3ms/step - loss: -3761849.5000 - accuracy: 0.0000e+00 - val_loss: -3925880.0000 - val_accuracy: 0.0000e+00\n",
            "Epoch 33/50\n",
            "75/75 [==============================] - 0s 2ms/step - loss: -3876330.7500 - accuracy: 0.0000e+00 - val_loss: -4044575.5000 - val_accuracy: 0.0000e+00\n",
            "Epoch 34/50\n",
            "75/75 [==============================] - 0s 3ms/step - loss: -3992736.0000 - accuracy: 0.0000e+00 - val_loss: -4166141.7500 - val_accuracy: 0.0000e+00\n",
            "Epoch 35/50\n",
            "75/75 [==============================] - 0s 2ms/step - loss: -4111343.7500 - accuracy: 0.0000e+00 - val_loss: -4289050.0000 - val_accuracy: 0.0000e+00\n",
            "Epoch 36/50\n",
            "75/75 [==============================] - 0s 3ms/step - loss: -4231994.5000 - accuracy: 0.0000e+00 - val_loss: -4413153.5000 - val_accuracy: 0.0000e+00\n",
            "Epoch 37/50\n",
            "75/75 [==============================] - 0s 4ms/step - loss: -4354495.0000 - accuracy: 0.0000e+00 - val_loss: -4540560.0000 - val_accuracy: 0.0000e+00\n",
            "Epoch 38/50\n",
            "75/75 [==============================] - 0s 4ms/step - loss: -4479302.0000 - accuracy: 0.0000e+00 - val_loss: -4669706.5000 - val_accuracy: 0.0000e+00\n",
            "Epoch 39/50\n",
            "75/75 [==============================] - 0s 4ms/step - loss: -4605919.5000 - accuracy: 0.0000e+00 - val_loss: -4801963.0000 - val_accuracy: 0.0000e+00\n",
            "Epoch 40/50\n",
            "75/75 [==============================] - 0s 4ms/step - loss: -4734972.5000 - accuracy: 0.0000e+00 - val_loss: -4934538.0000 - val_accuracy: 0.0000e+00\n",
            "Epoch 41/50\n",
            "75/75 [==============================] - 0s 4ms/step - loss: -4865745.0000 - accuracy: 0.0000e+00 - val_loss: -5070750.0000 - val_accuracy: 0.0000e+00\n",
            "Epoch 42/50\n",
            "75/75 [==============================] - 0s 4ms/step - loss: -4998818.0000 - accuracy: 0.0000e+00 - val_loss: -5208748.0000 - val_accuracy: 0.0000e+00\n",
            "Epoch 43/50\n",
            "75/75 [==============================] - 0s 3ms/step - loss: -5134076.5000 - accuracy: 0.0000e+00 - val_loss: -5348621.5000 - val_accuracy: 0.0000e+00\n",
            "Epoch 44/50\n",
            "75/75 [==============================] - 0s 3ms/step - loss: -5271348.0000 - accuracy: 0.0000e+00 - val_loss: -5490922.0000 - val_accuracy: 0.0000e+00\n",
            "Epoch 45/50\n",
            "75/75 [==============================] - 0s 3ms/step - loss: -5410957.0000 - accuracy: 0.0000e+00 - val_loss: -5634972.5000 - val_accuracy: 0.0000e+00\n",
            "Epoch 46/50\n",
            "75/75 [==============================] - 0s 3ms/step - loss: -5552513.5000 - accuracy: 0.0000e+00 - val_loss: -5782092.0000 - val_accuracy: 0.0000e+00\n",
            "Epoch 47/50\n",
            "75/75 [==============================] - 0s 3ms/step - loss: -5696502.5000 - accuracy: 0.0000e+00 - val_loss: -5930877.5000 - val_accuracy: 0.0000e+00\n",
            "Epoch 48/50\n",
            "75/75 [==============================] - 0s 3ms/step - loss: -5842638.0000 - accuracy: 0.0000e+00 - val_loss: -6081643.0000 - val_accuracy: 0.0000e+00\n",
            "Epoch 49/50\n",
            "75/75 [==============================] - 0s 3ms/step - loss: -5990811.5000 - accuracy: 0.0000e+00 - val_loss: -6235884.5000 - val_accuracy: 0.0000e+00\n",
            "Epoch 50/50\n",
            "75/75 [==============================] - 0s 3ms/step - loss: -6141503.0000 - accuracy: 0.0000e+00 - val_loss: -6391061.5000 - val_accuracy: 0.0000e+00\n"
          ]
        },
        {
          "output_type": "display_data",
          "data": {
            "text/plain": [
              "<Figure size 640x480 with 1 Axes>"
            ],
            "image/png": "[encoded data removed]"
          },
          "metadata": {}
        },
        {
          "output_type": "display_data",
          "data": {
            "text/plain": [
              "<Figure size 640x480 with 1 Axes>"
            ],
            "image/png": "[encoded data removed]"
          },
          "metadata": {}
        }
      ]
    }
  ]
}